{
 "cells": [
  {
   "cell_type": "code",
   "execution_count": 1,
   "metadata": {},
   "outputs": [],
   "source": [
    "import psycopg2"
   ]
  },
  {
   "cell_type": "code",
   "execution_count": 2,
   "metadata": {},
   "outputs": [],
   "source": [
    "#to connect to Postgre database server using psycopg2\n",
    "def connect(host, database, user, password, port):\n",
    "    try:\n",
    "        connection = psycopg2.connect(host = host, \n",
    "                                    database = database,\n",
    "                                    user = user,\n",
    "                                    password = password,\n",
    "                                    port = port);\n",
    "        \n",
    "        cursor = connection.cursor()\n",
    "        \n",
    "    except (Exception, psycopg2.DatabaseError) as error:\n",
    "        print(\"Error while connecting to Postgre Server : \", error)\n",
    "        \n",
    "    return connection, cursor"
   ]
  },
  {
   "cell_type": "code",
   "execution_count": 3,
   "metadata": {},
   "outputs": [],
   "source": [
    "#to create table using specific connection and cursor\n",
    "def create_table(conn, cur, query):\n",
    "    #conn, cur = connect()\n",
    "    try:\n",
    "        cur.execute(query)\n",
    "    except:\n",
    "        print(\"Error creating table\")\n",
    "        \n",
    "    conn.commit()"
   ]
  },
  {
   "cell_type": "code",
   "execution_count": 4,
   "metadata": {},
   "outputs": [],
   "source": [
    "#to delete a table\n",
    "def delete_table(table_name):\n",
    "    conn, cur = connect()\n",
    "    query = 'DROP TABLE ' + table_name\n",
    "    try:\n",
    "        cur.execute(query)\n",
    "  \n",
    "    except Exception as error:\n",
    "        print('error', error)\n",
    "  \n",
    "    conn.commit()"
   ]
  },
  {
   "cell_type": "code",
   "execution_count": 5,
   "metadata": {},
   "outputs": [],
   "source": [
    "#to test\n",
    "def test(name):\n",
    "    print(name)"
   ]
  },
  {
   "cell_type": "code",
   "execution_count": null,
   "metadata": {},
   "outputs": [],
   "source": [
    "##########"
   ]
  }
 ],
 "metadata": {
  "kernelspec": {
   "display_name": "Python 3",
   "language": "python",
   "name": "python3"
  },
  "language_info": {
   "codemirror_mode": {
    "name": "ipython",
    "version": 3
   },
   "file_extension": ".py",
   "mimetype": "text/x-python",
   "name": "python",
   "nbconvert_exporter": "python",
   "pygments_lexer": "ipython3",
   "version": "3.7.3"
  }
 },
 "nbformat": 4,
 "nbformat_minor": 2
}
